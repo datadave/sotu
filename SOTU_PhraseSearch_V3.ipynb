{
 "metadata": {
  "name": ""
 },
 "nbformat": 3,
 "nbformat_minor": 0,
 "worksheets": [
  {
   "cells": [
    {
     "cell_type": "code",
     "collapsed": false,
     "input": [
      "# Script for reading in SOTU speeches checking against a provided word list and providing a frequency output\n",
      "\n",
      "import json\n",
      "import sys\n",
      "import nltk\n",
      "import re\n",
      "from sys import stdout"
     ],
     "language": "python",
     "metadata": {},
     "outputs": [],
     "prompt_number": 3
    },
    {
     "cell_type": "code",
     "collapsed": false,
     "input": [
      "## Import entire raw text\n",
      "f = open('stateoftheunion1790-2012.txt')\n",
      "text = f.read()\n",
      "\n",
      "## split the text into speeches\n",
      "speeches = text.split('***')"
     ],
     "language": "python",
     "metadata": {
      "slideshow": {
       "slide_type": "slide"
      }
     },
     "outputs": [],
     "prompt_number": 5
    },
    {
     "cell_type": "code",
     "collapsed": false,
     "input": [
      "# Read in a dictionary file of words\n",
      "thedict = open('../dictionary/economicjusticedictionary_010314.txt').readlines()\n",
      "\n",
      "# take out newlines\n",
      "thedict = [line.strip() for line in thedict]\n",
      "\n",
      "# take the dictionary to define search and avoid phrases\n",
      "# Note this assumes each line has comma separated values \"target,avoid\"\n",
      "searchphrases=[]\n",
      "avoidphrases=[]\n",
      "for line in thedict:\n",
      "    j = line.split(',')\n",
      "    searchphrases.append(j[0])\n",
      "    avoidphrases.append(j[1]) "
     ],
     "language": "python",
     "metadata": {
      "slideshow": {
       "slide_type": "slide"
      }
     },
     "outputs": [],
     "prompt_number": 1
    },
    {
     "cell_type": "code",
     "collapsed": false,
     "input": [
      "# Define the range of speeches to evaluate\n",
      "startrange=109 \n",
      "endrange=222"
     ],
     "language": "python",
     "metadata": {},
     "outputs": [],
     "prompt_number": 7
    },
    {
     "cell_type": "code",
     "collapsed": false,
     "input": [
      "templist=[] # for bug checking the avoidword system\n",
      "outlist=[] # Output of all variables in serial format\n",
      "speechlist=[] # List of individual speeches, dates, speakers, word totals\n",
      "target=[] # Target search word\n",
      "avoid=[] # Word/phrase to avoid when searching for target (0 if none)\n",
      "context=[] # Text surrounding target"
     ],
     "language": "python",
     "metadata": {},
     "outputs": [],
     "prompt_number": 8
    },
    {
     "cell_type": "code",
     "collapsed": false,
     "input": [
      "# Create a list with speechnum, date, speaker, totalwords\n",
      "s=[]\n",
      "w=[]\n",
      "for speechnum in range(startrange,endrange+1):\n",
      "    s = speeches[speechnum]\n",
      "    w = nltk.Text(nltk.word_tokenize(s.lower().replace('.', ' ')))\n",
      "    speechlist.append((speechnum,s.split('\\n')[4],s.split('\\n')[3],len(w)))"
     ],
     "language": "python",
     "metadata": {},
     "outputs": [],
     "prompt_number": 9
    },
    {
     "cell_type": "code",
     "collapsed": false,
     "input": [
      "# FIND WORD OCCURRENCES IN SELECTED SPEECHES\n",
      "# Populate data frame with speech, date, president, character index, targetword, context\n",
      "\n",
      "for speechnum in range(startrange,endrange+1):\n",
      "    s = speeches[speechnum] # set \"s\" as the speech of choice\n",
      "    # Iterate over words\n",
      "    for (target,avoid) in zip(searchphrases,avoidphrases):  # The dictionary list includes target and avoidance pairs\n",
      "            for m in re.finditer(re.escape(target),s,re.I): # gather 2 hundred characters before and after a target\n",
      "                q = s[m.start()-200:m.start()+200].split()\n",
      "                context = (\"... \"+' '.join(q[1:(len(q)-1)])+\" ...\") # capture the context around the target as a string\n",
      "                if avoid != '0': # If there's an 'avoid' word then:\n",
      "                    if not re.search(avoid,s[m.start()-200:m.start()+200],re.I): # if the word isn't nearby:\n",
      "                        templist.append((speechnum,m.start(),m.group(),'avoidsafe')) # then count the word\n",
      "                        outlist.append((speechnum,s.split('\\n')[4],s.split('\\n')[3],m.start(),target,speechlist[speechnum-startrange][3],context))\n",
      "                    else: # just for bug checking\n",
      "                        templist.append((speechnum,m.start(),m.group(),'avoidfail')) # if the word is nearby, then don't count it.\n",
      "                else: # Do the below if there's no avoid word, i.e. if \"avoid\" = '0'\n",
      "                    templist.append((speechnum,m.start(),m.group()))\n",
      "                    outlist.append((speechnum,s.split('\\n')[4],s.split('\\n')[3],m.start(),target,speechlist[speechnum-startrange][3],context))\n",
      "                    # 4th line is date, 3rd line is president"
     ],
     "language": "python",
     "metadata": {},
     "outputs": [],
     "prompt_number": 10
    },
    {
     "cell_type": "code",
     "collapsed": false,
     "input": [
      "# Output Summaries\n",
      "import pandas as pd\n",
      "import matplotlib.pyplot as plt\n",
      "import numpy as np\n",
      "\n"
     ],
     "language": "python",
     "metadata": {},
     "outputs": [],
     "prompt_number": 11
    },
    {
     "cell_type": "code",
     "collapsed": false,
     "input": [
      "# Create a dataframe\n",
      "outarray = np.array(outlist).reshape(-1,7)\n",
      "df = pd.DataFrame(outarray)\n",
      "df.columns = ['speech','date','president','charindex','target','wordcount','context']\n"
     ],
     "language": "python",
     "metadata": {},
     "outputs": [],
     "prompt_number": 13
    },
    {
     "cell_type": "code",
     "collapsed": false,
     "input": [
      "# Convert the date to datetime\n",
      "df['date'] = pd.to_datetime(df['date'])"
     ],
     "language": "python",
     "metadata": {},
     "outputs": [],
     "prompt_number": 14
    },
    {
     "cell_type": "code",
     "collapsed": false,
     "input": [
      "# Draw a quick table to verify that our dataframe looks correct\n",
      "df[0:5] "
     ],
     "language": "python",
     "metadata": {},
     "outputs": [
      {
       "html": [
        "<div style=\"max-height:1000px;max-width:1500px;overflow:auto;\">\n",
        "<table border=\"1\" class=\"dataframe\">\n",
        "  <thead>\n",
        "    <tr style=\"text-align: right;\">\n",
        "      <th></th>\n",
        "      <th>speech</th>\n",
        "      <th>date</th>\n",
        "      <th>president</th>\n",
        "      <th>charindex</th>\n",
        "      <th>target</th>\n",
        "      <th>wordcount</th>\n",
        "      <th>context</th>\n",
        "    </tr>\n",
        "  </thead>\n",
        "  <tbody>\n",
        "    <tr>\n",
        "      <th>0</th>\n",
        "      <td> 109</td>\n",
        "      <td>1901-12-03 00:00:00</td>\n",
        "      <td> Theodore Roosevelt</td>\n",
        "      <td> 13511</td>\n",
        "      <td> distribution</td>\n",
        "      <td> 20595</td>\n",
        "      <td> ... of the twentieth, with very serious social...</td>\n",
        "    </tr>\n",
        "    <tr>\n",
        "      <th>1</th>\n",
        "      <td> 109</td>\n",
        "      <td>1901-12-03 00:00:00</td>\n",
        "      <td> Theodore Roosevelt</td>\n",
        "      <td> 37630</td>\n",
        "      <td> distribution</td>\n",
        "      <td> 20595</td>\n",
        "      <td> ... which we have dealings, would be of politi...</td>\n",
        "    </tr>\n",
        "    <tr>\n",
        "      <th>2</th>\n",
        "      <td> 109</td>\n",
        "      <td>1901-12-03 00:00:00</td>\n",
        "      <td> Theodore Roosevelt</td>\n",
        "      <td> 50691</td>\n",
        "      <td> distribution</td>\n",
        "      <td> 20595</td>\n",
        "      <td> ... Government. The lands reclaimed by them sh...</td>\n",
        "    </tr>\n",
        "    <tr>\n",
        "      <th>3</th>\n",
        "      <td> 109</td>\n",
        "      <td>1901-12-03 00:00:00</td>\n",
        "      <td> Theodore Roosevelt</td>\n",
        "      <td> 95920</td>\n",
        "      <td>   employment</td>\n",
        "      <td> 20595</td>\n",
        "      <td> ... passage of a law which will extend the cla...</td>\n",
        "    </tr>\n",
        "    <tr>\n",
        "      <th>4</th>\n",
        "      <td> 109</td>\n",
        "      <td>1901-12-03 00:00:00</td>\n",
        "      <td> Theodore Roosevelt</td>\n",
        "      <td>  6729</td>\n",
        "      <td>        equal</td>\n",
        "      <td> 20595</td>\n",
        "      <td> ... similar fashion the embodiment of the law-...</td>\n",
        "    </tr>\n",
        "  </tbody>\n",
        "</table>\n",
        "</div>"
       ],
       "metadata": {},
       "output_type": "pyout",
       "prompt_number": 15,
       "text": [
        "  speech                date           president charindex        target  \\\n",
        "0    109 1901-12-03 00:00:00  Theodore Roosevelt     13511  distribution   \n",
        "1    109 1901-12-03 00:00:00  Theodore Roosevelt     37630  distribution   \n",
        "2    109 1901-12-03 00:00:00  Theodore Roosevelt     50691  distribution   \n",
        "3    109 1901-12-03 00:00:00  Theodore Roosevelt     95920    employment   \n",
        "4    109 1901-12-03 00:00:00  Theodore Roosevelt      6729         equal   \n",
        "\n",
        "  wordcount                                            context  \n",
        "0     20595  ... of the twentieth, with very serious social...  \n",
        "1     20595  ... which we have dealings, would be of politi...  \n",
        "2     20595  ... Government. The lands reclaimed by them sh...  \n",
        "3     20595  ... passage of a law which will extend the cla...  \n",
        "4     20595  ... similar fashion the embodiment of the law-...  "
       ]
      }
     ],
     "prompt_number": 15
    },
    {
     "cell_type": "code",
     "collapsed": false,
     "input": [
      "# List of scores value count -- scores per date\n",
      "svc = df.date.value_counts()\n",
      "svc = pd.DataFrame(svc)\n",
      "svc = svc.sort()\n",
      "\n"
     ],
     "language": "python",
     "metadata": {},
     "outputs": [
      {
       "html": [
        "<div style=\"max-height:1000px;max-width:1500px;overflow:auto;\">\n",
        "<table border=\"1\" class=\"dataframe\">\n",
        "  <thead>\n",
        "    <tr style=\"text-align: right;\">\n",
        "      <th></th>\n",
        "      <th>0</th>\n",
        "    </tr>\n",
        "  </thead>\n",
        "  <tbody>\n",
        "    <tr>\n",
        "      <th>1901-12-03</th>\n",
        "      <td>  96</td>\n",
        "    </tr>\n",
        "    <tr>\n",
        "      <th>1902-12-02</th>\n",
        "      <td>  49</td>\n",
        "    </tr>\n",
        "    <tr>\n",
        "      <th>1903-12-07</th>\n",
        "      <td>  51</td>\n",
        "    </tr>\n",
        "    <tr>\n",
        "      <th>1904-12-06</th>\n",
        "      <td> 112</td>\n",
        "    </tr>\n",
        "    <tr>\n",
        "      <th>1905-12-05</th>\n",
        "      <td> 125</td>\n",
        "    </tr>\n",
        "  </tbody>\n",
        "</table>\n",
        "</div>"
       ],
       "metadata": {},
       "output_type": "pyout",
       "prompt_number": 17,
       "text": [
        "              0\n",
        "1901-12-03   96\n",
        "1902-12-02   49\n",
        "1903-12-07   51\n",
        "1904-12-06  112\n",
        "1905-12-05  125"
       ]
      }
     ],
     "prompt_number": 17
    },
    {
     "cell_type": "heading",
     "level": 3,
     "metadata": {},
     "source": [
      "File Export"
     ]
    },
    {
     "cell_type": "code",
     "collapsed": false,
     "input": [
      "# Output File as date-time-stamped csv\n",
      "import datetime\n",
      "x = datetime.datetime.now().strftime('%m-%d-%y_%H%M')\n",
      "df.to_csv(\"./Outputs/output_\"+x+\".csv\")"
     ],
     "language": "python",
     "metadata": {},
     "outputs": [],
     "prompt_number": 45
    },
    {
     "cell_type": "code",
     "collapsed": false,
     "input": [
      "# Output Sample File as JSON\n",
      "# rows = np.random.choice(df.index.values, 10)\n",
      "# sampled_df = df.ix[rows]"
     ],
     "language": "python",
     "metadata": {},
     "outputs": [],
     "prompt_number": 17
    },
    {
     "cell_type": "code",
     "collapsed": false,
     "input": [
      "# sampled_df.to_json('sotu.json',orient='values')\n",
      "# sotu = {'text': latetext, 'speechTitles': speechTitles, 'speechStarts': speechStarts, 'fKeys': fKeys, 'fValues': fValues}\n",
      "# json.dump(sotu, open('webpage/sotu.json', 'wb'))"
     ],
     "language": "python",
     "metadata": {},
     "outputs": [],
     "prompt_number": 18
    }
   ],
   "metadata": {}
  }
 ]
}